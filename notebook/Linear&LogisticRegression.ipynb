{
  "nbformat": 4,
  "nbformat_minor": 0,
  "metadata": {
    "colab": {
      "provenance": [],
      "toc_visible": true,
      "authorship_tag": "ABX9TyOS6XP7KQjJQV1E4wItBlsu",
      "include_colab_link": true
    },
    "kernelspec": {
      "name": "python3",
      "display_name": "Python 3"
    },
    "language_info": {
      "name": "python"
    }
  },
  "cells": [
    {
      "cell_type": "markdown",
      "metadata": {
        "id": "view-in-github",
        "colab_type": "text"
      },
      "source": [
        "<a href=\"https://colab.research.google.com/github/am88tech/gen-ai-ml/blob/main/notebook/Linear%26LogisticRegression.ipynb\" target=\"_parent\"><img src=\"https://colab.research.google.com/assets/colab-badge.svg\" alt=\"Open In Colab\"/></a>"
      ]
    },
    {
      "cell_type": "code",
      "execution_count": null,
      "metadata": {
        "collapsed": true,
        "id": "cb0TyKtO2KUI"
      },
      "outputs": [],
      "source": [
        "import pandas as pd\n",
        "import numpy as np\n",
        "import matplotlib as matlab\n",
        "import statsmodels"
      ]
    },
    {
      "cell_type": "markdown",
      "source": [
        "# Data"
      ],
      "metadata": {
        "id": "DCkGAmL34ZCa"
      }
    },
    {
      "cell_type": "code",
      "source": [
        "air = pd.read_csv(\"https://raw.githubusercontent.com/am88tech/gen-ai-ml/master/data/AirPassengers/AirPassengers.csv\")\n",
        "air.info()\n",
        "np.corrcoef(air.Passengers,air.Promotion_Budget)"
      ],
      "metadata": {
        "collapsed": true,
        "id": "IZnG3ruz4cWM"
      },
      "execution_count": null,
      "outputs": []
    },
    {
      "cell_type": "markdown",
      "source": [
        "# Regression"
      ],
      "metadata": {
        "id": "6g64NXdTM8O2"
      }
    },
    {
      "cell_type": "code",
      "source": [
        "import statsmodels.formula.api as sm\n",
        "model = sm.ols(formula='Passengers ~ Promotion_Budget', data=air)\n",
        "fitted1 = model.fit()\n",
        "print(fitted1.summary())"
      ],
      "metadata": {
        "collapsed": true,
        "id": "-8wkQKtsM_UO"
      },
      "execution_count": null,
      "outputs": []
    },
    {
      "cell_type": "markdown",
      "source": [
        "# R Squared"
      ],
      "metadata": {
        "id": "d2k9yT6EJd_g"
      }
    },
    {
      "cell_type": "code",
      "source": [
        "import statsmodels.formula.api as sm\n",
        "model = sm.ols(formula='Passengers ~ Inter_metro_flight_ratio', data=air)\n",
        "fitted2 = model.fit()\n",
        "print(fitted2.summary())"
      ],
      "metadata": {
        "collapsed": true,
        "id": "W8rKZBNFJhoJ"
      },
      "execution_count": null,
      "outputs": []
    },
    {
      "cell_type": "markdown",
      "source": [
        "# Best fitting model"
      ],
      "metadata": {
        "id": "6rWDUsFTMPyB"
      }
    },
    {
      "cell_type": "code",
      "source": [
        "import pandas as pd\n",
        "import statsmodels.formula.api as sm\n",
        "\n",
        "# Assuming your dataframe is named 'air' and the target variable is 'Passengers'\n",
        "\n",
        "# Get a list of all predictor columns\n",
        "predictors = air.columns.drop('Passengers')\n",
        "\n",
        "# Store parameters with R-squared > 0.8\n",
        "selected_predictors = []\n",
        "for predictor in predictors:\n",
        "    formula = f'Passengers ~ {predictor}'\n",
        "    model = sm.ols(formula=formula, data=air).fit()\n",
        "    r_squared = model.rsquared\n",
        "    print(predictor + \": \" + str(r_squared))\n",
        "    if r_squared > 0.8:\n",
        "        selected_predictors.append(predictor)\n",
        "\n",
        "\n",
        "\n",
        "# Create formula for the model with selected parameters\n",
        "formula = f'Passengers ~ {\" + \".join(selected_predictors)}'\n",
        "\n",
        "# Fit the model\n",
        "final_model = sm.ols(formula=formula, data=air).fit()\n",
        "\n",
        "# Print model summary\n",
        "print(final_model.summary())"
      ],
      "metadata": {
        "id": "JhIaONNMMTvR"
      },
      "execution_count": null,
      "outputs": []
    },
    {
      "cell_type": "markdown",
      "source": [
        "# Linear Regression with Sk-Learn"
      ],
      "metadata": {
        "id": "M4XyguHzP2Qp"
      }
    },
    {
      "cell_type": "code",
      "source": [
        "import numpy as np\n",
        "import pandas as pd\n",
        "import matplotlib.pyplot as plt"
      ],
      "metadata": {
        "id": "44Ao_c1tP5Wj"
      },
      "execution_count": null,
      "outputs": []
    },
    {
      "cell_type": "code",
      "source": [
        "sales = pd.read_csv(\"https://raw.githubusercontent.com/am88tech/gen-ai-ml/master/data/Product_sales/Product_sales.csv\")"
      ],
      "metadata": {
        "id": "KvIrFU3EQXHj"
      },
      "execution_count": null,
      "outputs": []
    },
    {
      "cell_type": "code",
      "source": [
        "import sklearn as sk\n",
        "from sklearn import linear_model\n",
        "\n",
        "from sklearn.linear_model import LinearRegression\n",
        "lr = LinearRegression()\n",
        "lr.fit(sales[[\"Age\"]], sales[[\"Bought\"]])"
      ],
      "metadata": {
        "id": "CgqFCW5AQpRh"
      },
      "execution_count": null,
      "outputs": []
    },
    {
      "cell_type": "code",
      "source": [
        "print(\"intercept\",lr.intercept_)\n",
        "print(\"Co-efficient\",lr.coef_)"
      ],
      "metadata": {
        "id": "C5WA1XVHQuK2"
      },
      "execution_count": null,
      "outputs": []
    },
    {
      "cell_type": "code",
      "source": [
        "d1=pd.DataFrame({\"Age\":[4]})\n",
        "predict1=lr.predict(d1)\n",
        "print(predict1)"
      ],
      "metadata": {
        "id": "OYLMuk5IQ-oe"
      },
      "execution_count": null,
      "outputs": []
    },
    {
      "cell_type": "code",
      "source": [
        "d2=pd.DataFrame({\"Age\":[105]})\n",
        "predict2=lr.predict(d2)\n",
        "print(predict2)"
      ],
      "metadata": {
        "id": "9kFjSTeGRFWC"
      },
      "execution_count": null,
      "outputs": []
    },
    {
      "cell_type": "code",
      "source": [],
      "metadata": {
        "id": "xNSJweIZRYFT"
      },
      "execution_count": null,
      "outputs": []
    },
    {
      "cell_type": "markdown",
      "source": [
        "# Logistic Regression with Sk-Learn"
      ],
      "metadata": {
        "id": "gq0kKK75a2Kd"
      }
    },
    {
      "cell_type": "code",
      "source": [
        "import numpy as np\n",
        "import pandas as pd\n",
        "import matplotlib.pyplot as plt"
      ],
      "metadata": {
        "id": "oua2Z0fxa2Ke"
      },
      "execution_count": null,
      "outputs": []
    },
    {
      "cell_type": "code",
      "source": [
        "sales = pd.read_csv(\"https://raw.githubusercontent.com/am88tech/gen-ai-ml/master/data/Product_sales/Product_sales.csv\")"
      ],
      "metadata": {
        "id": "C6xAA8Iua2Ke"
      },
      "execution_count": null,
      "outputs": []
    },
    {
      "cell_type": "code",
      "source": [
        "import sklearn as sk\n",
        "from sklearn import linear_model\n",
        "\n",
        "from sklearn.linear_model import LogisticRegression\n",
        "lr = LogisticRegression()\n",
        "lr.fit(sales[[\"Age\"]], sales[[\"Bought\"]])"
      ],
      "metadata": {
        "id": "ov68c_DQa2Kf"
      },
      "execution_count": null,
      "outputs": []
    },
    {
      "cell_type": "code",
      "source": [
        "print(\"intercept\",lr.intercept_)\n",
        "print(\"Co-efficient\",lr.coef_)"
      ],
      "metadata": {
        "id": "_Nxm7Ce6a2Kf"
      },
      "execution_count": null,
      "outputs": []
    },
    {
      "cell_type": "code",
      "source": [
        "d1=pd.DataFrame({\"Age\":[4]})\n",
        "predict1=lr.predict(d1)\n",
        "print(predict1)"
      ],
      "metadata": {
        "id": "PHOH9v6Za2Kf"
      },
      "execution_count": null,
      "outputs": []
    },
    {
      "cell_type": "code",
      "source": [
        "d2=pd.DataFrame({\"Age\":[105]})\n",
        "predict2=lr.predict(d2)\n",
        "print(predict2)"
      ],
      "metadata": {
        "id": "SZfzO6Aaa2Kf"
      },
      "execution_count": null,
      "outputs": []
    },
    {
      "cell_type": "code",
      "source": [],
      "metadata": {
        "id": "1fLeB6dva2Kf"
      },
      "execution_count": null,
      "outputs": []
    },
    {
      "cell_type": "markdown",
      "source": [
        "# Drawing Logistic Regression line"
      ],
      "metadata": {
        "id": "z5GzErKWde56"
      }
    },
    {
      "cell_type": "code",
      "source": [
        "new_data=sales.drop([\"Bought\"], axis=1)\n",
        "#Pass the variables to get the predicted values. Add actual values in a new column\n",
        "new_data[\"pred_values\"]= lr.predict_proba(new_data)[:,1]\n",
        "new_data[\"Actual\"]=sales[\"Bought\"]\n",
        "\n",
        "#Sort the data and draw the graph\n",
        "new_data=new_data.sort_values([\"pred_values\"])\n",
        "plt.scatter(new_data[\"Age\"], new_data[\"Actual\"])\n",
        "plt.plot(new_data[\"Age\"], new_data[\"pred_values\"], color='green')\n",
        "#Add lables and title\n",
        "plt.title('Predicted vs Actual Plot')\n",
        "plt.xlabel('Age')\n",
        "plt.ylabel('Bought')\n",
        "plt.show()"
      ],
      "metadata": {
        "id": "pauynJ2ldjuD"
      },
      "execution_count": null,
      "outputs": []
    },
    {
      "cell_type": "markdown",
      "source": [
        "# Multiple Logistic Regression"
      ],
      "metadata": {
        "id": "XgfbX16ddonH"
      }
    },
    {
      "cell_type": "code",
      "source": [
        "Fiber=pd.read_csv(\"https://raw.githubusercontent.com/am88tech/gen-ai-ml/master/data/Fiberbits/Fiberbits_v1.csv\")"
      ],
      "metadata": {
        "id": "vgzEiOEcdskZ"
      },
      "execution_count": 27,
      "outputs": []
    },
    {
      "cell_type": "code",
      "source": [
        "Fiber.info()"
      ],
      "metadata": {
        "id": "u5HnGbladtJf"
      },
      "execution_count": null,
      "outputs": []
    },
    {
      "cell_type": "code",
      "source": [
        "logistic1= LogisticRegression(max_iter=200)\n",
        "###fitting logistic regression for active customer on rest of the variables#######\n",
        "logistic1.fit(Fiber[[\"income\"]+['months_on_network']+['Num_complaints']+['number_plan_changes']+['relocated']+['monthly_bill']+['technical_issues_per_month']+['Speed_test_result']],Fiber[['active_cust']])\n"
      ],
      "metadata": {
        "id": "wuHROXIHdxx2"
      },
      "execution_count": null,
      "outputs": []
    },
    {
      "cell_type": "code",
      "source": [
        "print(\"Intercept\", logistic1.intercept_)\n",
        "print(\"Coefficients\", logistic1.coef_)\n"
      ],
      "metadata": {
        "id": "_ccHhtUTd9MM"
      },
      "execution_count": null,
      "outputs": []
    },
    {
      "cell_type": "code",
      "source": [
        "# Get predicted values for all rows\n",
        "predicted_values = logistic1.predict(Fiber[['income'] + ['months_on_network'] + ['Num_complaints'] + ['number_plan_changes'] + ['relocated'] + ['monthly_bill'] + ['technical_issues_per_month'] + ['Speed_test_result']])\n",
        "Fiber['predicted_active_cust'] = predicted_values\n",
        "result = Fiber[['active_cust', 'predicted_active_cust']]\n",
        "print(result)\n",
        "\n",
        "# Assuming your DataFrame is named 'Fiber' and\n",
        "# the actual values are in the 'active_cust' column\n",
        "# and the predicted values are in the 'predicted_active_cust' column\n",
        "\n",
        "# Calculate the difference between actual and predicted values\n",
        "Fiber['difference'] = Fiber['active_cust'] - Fiber['predicted_active_cust']\n",
        "\n",
        "# Count the number of non-zero differences\n",
        "num_differences = (Fiber['difference'] != 0).sum()\n",
        "\n",
        "# Print the result\n",
        "print(\"Number of differences:\", num_differences)"
      ],
      "metadata": {
        "id": "4OaiEw6egUt_"
      },
      "execution_count": null,
      "outputs": []
    },
    {
      "cell_type": "markdown",
      "source": [
        "# Confusion Matrix & Accuracy"
      ],
      "metadata": {
        "id": "qkw7DA1fhQYa"
      }
    },
    {
      "cell_type": "code",
      "source": [
        "import numpy as np\n",
        "import matplotlib.pyplot as plt\n",
        "from sklearn.metrics import confusion_matrix"
      ],
      "metadata": {
        "id": "bXrVsK3ehUy6"
      },
      "execution_count": 36,
      "outputs": []
    },
    {
      "cell_type": "code",
      "source": [
        "predict1=logistic1.predict(Fiber[[\"income\"]+['months_on_network']+['Num_complaints']+['number_plan_changes']+['relocated']+['monthly_bill']+['technical_issues_per_month']+['Speed_test_result']])\n",
        "predict1\n",
        "\n",
        "cm1 = confusion_matrix(Fiber[['active_cust']],predict1)\n",
        "print(cm1)"
      ],
      "metadata": {
        "id": "-DVFVLhGhCVw"
      },
      "execution_count": null,
      "outputs": []
    },
    {
      "cell_type": "code",
      "source": [
        "print(\"col sums\", sum(cm1))\n",
        "total1=sum(sum(cm1))\n",
        "print(\"Total\", total1)\n"
      ],
      "metadata": {
        "id": "TBF_M3NOhZiW"
      },
      "execution_count": null,
      "outputs": []
    },
    {
      "cell_type": "code",
      "source": [
        "accuracy1=(cm1[0,0]+cm1[1,1])/total1\n",
        "accuracy1"
      ],
      "metadata": {
        "id": "Ay3NuNVdhbzz"
      },
      "execution_count": null,
      "outputs": []
    },
    {
      "cell_type": "markdown",
      "metadata": {
        "id": "I08fcte0AxSW"
      },
      "source": [
        "# Cross Validation"
      ]
    },
    {
      "cell_type": "code",
      "metadata": {
        "id": "jTYlH3wBD0rv",
        "colab": {
          "base_uri": "https://localhost:8080/"
        },
        "outputId": "c8de93b4-83bd-448d-d64b-8847a43a28dd"
      },
      "source": [
        "from sklearn import model_selection\n",
        "train_data,test_data = model_selection.train_test_split(Fiber, test_size=0.2)\n",
        "\n",
        "print(\"train Data Shape \",train_data.shape)\n",
        "print(\"test Data Shape  \",test_data.shape)\n"
      ],
      "execution_count": 40,
      "outputs": [
        {
          "output_type": "stream",
          "name": "stdout",
          "text": [
            "train Data Shape  (80000, 11)\n",
            "test Data Shape   (20000, 11)\n"
          ]
        }
      ]
    },
    {
      "cell_type": "code",
      "source": [],
      "metadata": {
        "id": "bKevboA7iLWZ"
      },
      "execution_count": null,
      "outputs": []
    },
    {
      "cell_type": "code",
      "metadata": {
        "id": "euc6YeweBINz"
      },
      "source": [
        "logistic2= LogisticRegression(max_iter=200)\n",
        "###fitting logistic regression for active customer on rest of the variables#######\n",
        "logistic2.fit(train_data[[\"income\"]+['months_on_network']+['Num_complaints']+['number_plan_changes']+['relocated']+['monthly_bill']+['technical_issues_per_month']+['Speed_test_result']],train_data[['active_cust']])\n",
        "\n",
        "\n",
        "predict=logistic2.predict(train_data[[\"income\"]+['months_on_network']+['Num_complaints']+['number_plan_changes']+['relocated']+['monthly_bill']+['technical_issues_per_month']+['Speed_test_result']])\n",
        "cm_train = confusion_matrix(train_data[['active_cust']],predict)\n",
        "accuracy_train=(cm_train[0,0]+cm_train[1,1])/sum(sum(cm_train))\n",
        "print(\"accuracy on train data\" , accuracy_train)\n",
        "\n",
        "\n",
        "predict=logistic2.predict(test_data[[\"income\"]+['months_on_network']+['Num_complaints']+['number_plan_changes']+['relocated']+['monthly_bill']+['technical_issues_per_month']+['Speed_test_result']])\n",
        "cm_test = confusion_matrix(test_data[['active_cust']],predict)\n",
        "accuracy_test=(cm_test[0,0]+cm_test[1,1])/sum(sum(cm_test))\n",
        "print(\"accuracy on test data\" , accuracy_test)\n"
      ],
      "execution_count": null,
      "outputs": []
    },
    {
      "cell_type": "code",
      "metadata": {
        "id": "Me9517rQBwPV"
      },
      "source": [],
      "execution_count": null,
      "outputs": []
    }
  ]
}