{
  "nbformat": 4,
  "nbformat_minor": 0,
  "metadata": {
    "colab": {
      "provenance": [],
      "toc_visible": true,
      "authorship_tag": "ABX9TyMQgzkG2S3KxfLqfeWiH5/S"
    },
    "kernelspec": {
      "name": "python3",
      "display_name": "Python 3"
    },
    "language_info": {
      "name": "python"
    }
  },
  "cells": [
    {
      "cell_type": "code",
      "execution_count": 2,
      "metadata": {
        "collapsed": true,
        "id": "cb0TyKtO2KUI"
      },
      "outputs": [],
      "source": [
        "import pandas as pd\n",
        "import numpy as np\n",
        "import matplotlib as matlab\n",
        "import statsmodels"
      ]
    },
    {
      "cell_type": "markdown",
      "source": [
        "# Data"
      ],
      "metadata": {
        "id": "DCkGAmL34ZCa"
      }
    },
    {
      "cell_type": "code",
      "source": [
        "air = pd.read_csv(\"https://raw.githubusercontent.com/am88tech/gen-ai-ml/master/data/AirPassengers/AirPassengers.csv\")\n",
        "air.info()\n",
        "np.corrcoef(air.Passengers,air.Promotion_Budget)"
      ],
      "metadata": {
        "collapsed": true,
        "id": "IZnG3ruz4cWM"
      },
      "execution_count": null,
      "outputs": []
    },
    {
      "cell_type": "markdown",
      "source": [
        "# Regression"
      ],
      "metadata": {
        "id": "6g64NXdTM8O2"
      }
    },
    {
      "cell_type": "code",
      "source": [
        "import statsmodels.formula.api as sm\n",
        "model = sm.ols(formula='Passengers ~ Promotion_Budget', data=air)\n",
        "fitted1 = model.fit()\n",
        "print(fitted1.summary())"
      ],
      "metadata": {
        "collapsed": true,
        "id": "-8wkQKtsM_UO"
      },
      "execution_count": null,
      "outputs": []
    },
    {
      "cell_type": "markdown",
      "source": [
        "# R Squared"
      ],
      "metadata": {
        "id": "d2k9yT6EJd_g"
      }
    },
    {
      "cell_type": "code",
      "source": [
        "import statsmodels.formula.api as sm\n",
        "model = sm.ols(formula='Passengers ~ Inter_metro_flight_ratio', data=air)\n",
        "fitted2 = model.fit()\n",
        "print(fitted2.summary())"
      ],
      "metadata": {
        "collapsed": true,
        "id": "W8rKZBNFJhoJ"
      },
      "execution_count": null,
      "outputs": []
    },
    {
      "cell_type": "markdown",
      "source": [
        "# Best fitting model"
      ],
      "metadata": {
        "id": "6rWDUsFTMPyB"
      }
    },
    {
      "cell_type": "code",
      "source": [
        "import pandas as pd\n",
        "import statsmodels.formula.api as sm\n",
        "\n",
        "# Assuming your dataframe is named 'air' and the target variable is 'Passengers'\n",
        "\n",
        "# Get a list of all predictor columns\n",
        "predictors = air.columns.drop('Passengers')\n",
        "\n",
        "# Store parameters with R-squared > 0.8\n",
        "selected_predictors = []\n",
        "for predictor in predictors:\n",
        "    formula = f'Passengers ~ {predictor}'\n",
        "    model = sm.ols(formula=formula, data=air).fit()\n",
        "    r_squared = model.rsquared\n",
        "    print(predictor + \": \" + str(r_squared))\n",
        "    if r_squared > 0.8:\n",
        "        selected_predictors.append(predictor)\n",
        "\n",
        "\n",
        "\n",
        "# Create formula for the model with selected parameters\n",
        "formula = f'Passengers ~ {\" + \".join(selected_predictors)}'\n",
        "\n",
        "# Fit the model\n",
        "final_model = sm.ols(formula=formula, data=air).fit()\n",
        "\n",
        "# Print model summary\n",
        "print(final_model.summary())"
      ],
      "metadata": {
        "id": "JhIaONNMMTvR"
      },
      "execution_count": null,
      "outputs": []
    },
    {
      "cell_type": "markdown",
      "source": [
        "# Linear Regression with Sk-Learn"
      ],
      "metadata": {
        "id": "M4XyguHzP2Qp"
      }
    },
    {
      "cell_type": "code",
      "source": [
        "import numpy as np\n",
        "import pandas as pd\n",
        "import matplotlib.pyplot as plt"
      ],
      "metadata": {
        "id": "44Ao_c1tP5Wj"
      },
      "execution_count": 13,
      "outputs": []
    },
    {
      "cell_type": "code",
      "source": [
        "sales = pd.read_csv(\"https://raw.githubusercontent.com/am88tech/gen-ai-ml/master/data/Product_sales/Product_sales.csv\")"
      ],
      "metadata": {
        "id": "KvIrFU3EQXHj"
      },
      "execution_count": 12,
      "outputs": []
    },
    {
      "cell_type": "code",
      "source": [
        "import sklearn as sk\n",
        "from sklearn import linear_model\n",
        "\n",
        "from sklearn.linear_model import LinearRegression\n",
        "lr = LinearRegression()\n",
        "lr.fit(sales[[\"Age\"]], sales[[\"Bought\"]])"
      ],
      "metadata": {
        "id": "CgqFCW5AQpRh"
      },
      "execution_count": null,
      "outputs": []
    },
    {
      "cell_type": "code",
      "source": [
        "print(\"intercept\",lr.intercept_)\n",
        "print(\"Co-efficient\",lr.coef_)"
      ],
      "metadata": {
        "id": "C5WA1XVHQuK2"
      },
      "execution_count": null,
      "outputs": []
    },
    {
      "cell_type": "code",
      "source": [
        "d1=pd.DataFrame({\"Age\":[4]})\n",
        "predict1=lr.predict(d1)\n",
        "print(predict1)"
      ],
      "metadata": {
        "id": "OYLMuk5IQ-oe"
      },
      "execution_count": null,
      "outputs": []
    },
    {
      "cell_type": "code",
      "source": [
        "d2=pd.DataFrame({\"Age\":[105]})\n",
        "predict2=lr.predict(d2)\n",
        "print(predict2)"
      ],
      "metadata": {
        "id": "9kFjSTeGRFWC"
      },
      "execution_count": null,
      "outputs": []
    },
    {
      "cell_type": "code",
      "source": [],
      "metadata": {
        "id": "xNSJweIZRYFT"
      },
      "execution_count": null,
      "outputs": []
    }
  ]
}