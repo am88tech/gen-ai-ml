{
  "nbformat": 4,
  "nbformat_minor": 0,
  "metadata": {
    "colab": {
      "provenance": [],
      "toc_visible": true,
      "authorship_tag": "ABX9TyPl/NAoGpt2UAjgr2b/07Jg",
      "include_colab_link": true
    },
    "kernelspec": {
      "name": "python3",
      "display_name": "Python 3"
    },
    "language_info": {
      "name": "python"
    }
  },
  "cells": [
    {
      "cell_type": "markdown",
      "metadata": {
        "id": "view-in-github",
        "colab_type": "text"
      },
      "source": [
        "<a href=\"https://colab.research.google.com/github/am88tech/gen-ai-ml/blob/main/notebook/Linear%26LogisticRegression.ipynb\" target=\"_parent\"><img src=\"https://colab.research.google.com/assets/colab-badge.svg\" alt=\"Open In Colab\"/></a>"
      ]
    },
    {
      "cell_type": "code",
      "execution_count": 2,
      "metadata": {
        "colab": {
          "base_uri": "https://localhost:8080/"
        },
        "collapsed": true,
        "id": "cb0TyKtO2KUI",
        "outputId": "f560a43a-3280-4f3c-c1d3-0a660a3c4a68"
      },
      "outputs": [
        {
          "output_type": "stream",
          "name": "stdout",
          "text": [
            "<class 'pandas.core.frame.DataFrame'>\n",
            "RangeIndex: 80 entries, 0 to 79\n",
            "Data columns (total 9 columns):\n",
            " #   Column                        Non-Null Count  Dtype  \n",
            "---  ------                        --------------  -----  \n",
            " 0   Week_num                      80 non-null     int64  \n",
            " 1   Passengers                    80 non-null     int64  \n",
            " 2   Promotion_Budget              80 non-null     int64  \n",
            " 3   Service_Quality_Score         80 non-null     float64\n",
            " 4   Holiday_week                  80 non-null     object \n",
            " 5   Delayed_Cancelled_flight_ind  80 non-null     object \n",
            " 6   Inter_metro_flight_ratio      80 non-null     float64\n",
            " 7   Bad_Weather_Ind               80 non-null     object \n",
            " 8   Technical_issues_ind          80 non-null     object \n",
            "dtypes: float64(2), int64(3), object(4)\n",
            "memory usage: 5.8+ KB\n"
          ]
        },
        {
          "output_type": "execute_result",
          "data": {
            "text/plain": [
              "array([[1.        , 0.96585103],\n",
              "       [0.96585103, 1.        ]])"
            ]
          },
          "metadata": {},
          "execution_count": 2
        }
      ],
      "source": [
        "import pandas as pd\n",
        "import numpy as np\n",
        "import matplotlib as matlab\n",
        "import statsmodels"
      ]
    },
    {
      "cell_type": "markdown",
      "source": [
        "# Data"
      ],
      "metadata": {
        "id": "DCkGAmL34ZCa"
      }
    },
    {
      "cell_type": "code",
      "source": [
        "air = pd.read_csv(\"https://raw.githubusercontent.com/am88tech/gen-ai-ml/master/data/AirPassengers/AirPassengers.csv\")\n",
        "air.info()\n",
        "np.corrcoef(air.Passengers,air.Promotion_Budget)"
      ],
      "metadata": {
        "colab": {
          "base_uri": "https://localhost:8080/"
        },
        "collapsed": true,
        "id": "IZnG3ruz4cWM",
        "outputId": "3fa1106c-0781-4c07-f38c-13fbc8b03ab7"
      },
      "execution_count": 3,
      "outputs": [
        {
          "output_type": "stream",
          "name": "stdout",
          "text": [
            "<class 'pandas.core.frame.DataFrame'>\n",
            "RangeIndex: 80 entries, 0 to 79\n",
            "Data columns (total 9 columns):\n",
            " #   Column                        Non-Null Count  Dtype  \n",
            "---  ------                        --------------  -----  \n",
            " 0   Week_num                      80 non-null     int64  \n",
            " 1   Passengers                    80 non-null     int64  \n",
            " 2   Promotion_Budget              80 non-null     int64  \n",
            " 3   Service_Quality_Score         80 non-null     float64\n",
            " 4   Holiday_week                  80 non-null     object \n",
            " 5   Delayed_Cancelled_flight_ind  80 non-null     object \n",
            " 6   Inter_metro_flight_ratio      80 non-null     float64\n",
            " 7   Bad_Weather_Ind               80 non-null     object \n",
            " 8   Technical_issues_ind          80 non-null     object \n",
            "dtypes: float64(2), int64(3), object(4)\n",
            "memory usage: 5.8+ KB\n"
          ]
        },
        {
          "output_type": "execute_result",
          "data": {
            "text/plain": [
              "array([[1.        , 0.96585103],\n",
              "       [0.96585103, 1.        ]])"
            ]
          },
          "metadata": {},
          "execution_count": 3
        }
      ]
    },
    {
      "cell_type": "markdown",
      "source": [
        "# Regression"
      ],
      "metadata": {
        "id": "6g64NXdTM8O2"
      }
    },
    {
      "cell_type": "code",
      "source": [
        "import statsmodels.formula.api as sm\n",
        "model = sm.ols(formula='Passengers ~ Promotion_Budget', data=air)\n",
        "fitted1 = model.fit()\n",
        "print(fitted1.summary())"
      ],
      "metadata": {
        "colab": {
          "base_uri": "https://localhost:8080/"
        },
        "id": "-8wkQKtsM_UO",
        "outputId": "7c685d72-c520-4e0a-eca8-d5f1681a3ec1"
      },
      "execution_count": 4,
      "outputs": [
        {
          "output_type": "stream",
          "name": "stdout",
          "text": [
            "                            OLS Regression Results                            \n",
            "==============================================================================\n",
            "Dep. Variable:             Passengers   R-squared:                       0.933\n",
            "Model:                            OLS   Adj. R-squared:                  0.932\n",
            "Method:                 Least Squares   F-statistic:                     1084.\n",
            "Date:                Tue, 08 Apr 2025   Prob (F-statistic):           1.66e-47\n",
            "Time:                        16:20:32   Log-Likelihood:                -751.34\n",
            "No. Observations:                  80   AIC:                             1507.\n",
            "Df Residuals:                      78   BIC:                             1511.\n",
            "Df Model:                           1                                         \n",
            "Covariance Type:            nonrobust                                         \n",
            "====================================================================================\n",
            "                       coef    std err          t      P>|t|      [0.025      0.975]\n",
            "------------------------------------------------------------------------------------\n",
            "Intercept         1259.6058   1361.071      0.925      0.358   -1450.078    3969.290\n",
            "Promotion_Budget     0.0695      0.002     32.923      0.000       0.065       0.074\n",
            "==============================================================================\n",
            "Omnibus:                       26.624   Durbin-Watson:                   1.831\n",
            "Prob(Omnibus):                  0.000   Jarque-Bera (JB):                5.188\n",
            "Skew:                          -0.128   Prob(JB):                       0.0747\n",
            "Kurtosis:                       1.779   Cond. No.                     2.67e+06\n",
            "==============================================================================\n",
            "\n",
            "Notes:\n",
            "[1] Standard Errors assume that the covariance matrix of the errors is correctly specified.\n",
            "[2] The condition number is large, 2.67e+06. This might indicate that there are\n",
            "strong multicollinearity or other numerical problems.\n"
          ]
        }
      ]
    }
  ]
}