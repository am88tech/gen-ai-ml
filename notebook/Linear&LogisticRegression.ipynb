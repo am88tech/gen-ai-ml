{
  "nbformat": 4,
  "nbformat_minor": 0,
  "metadata": {
    "colab": {
      "provenance": [],
      "toc_visible": true,
      "authorship_tag": "ABX9TyMlXqi4TU8by87GLHrylFSZ",
      "include_colab_link": true
    },
    "kernelspec": {
      "name": "python3",
      "display_name": "Python 3"
    },
    "language_info": {
      "name": "python"
    }
  },
  "cells": [
    {
      "cell_type": "markdown",
      "metadata": {
        "id": "view-in-github",
        "colab_type": "text"
      },
      "source": [
        "<a href=\"https://colab.research.google.com/github/am88tech/gen-ai-ml/blob/main/notebook/Linear%26LogisticRegression.ipynb\" target=\"_parent\"><img src=\"https://colab.research.google.com/assets/colab-badge.svg\" alt=\"Open In Colab\"/></a>"
      ]
    },
    {
      "cell_type": "code",
      "execution_count": 2,
      "metadata": {
        "collapsed": true,
        "id": "cb0TyKtO2KUI"
      },
      "outputs": [],
      "source": [
        "import pandas as pd\n",
        "import numpy as np\n",
        "import matplotlib as matlab\n",
        "import statsmodels"
      ]
    },
    {
      "cell_type": "markdown",
      "source": [
        "# Data"
      ],
      "metadata": {
        "id": "DCkGAmL34ZCa"
      }
    },
    {
      "cell_type": "code",
      "source": [
        "air = pd.read_csv(\"https://raw.githubusercontent.com/am88tech/gen-ai-ml/master/data/AirPassengers/AirPassengers.csv\")\n",
        "air.info()\n",
        "np.corrcoef(air.Passengers,air.Promotion_Budget)"
      ],
      "metadata": {
        "colab": {
          "base_uri": "https://localhost:8080/"
        },
        "collapsed": true,
        "id": "IZnG3ruz4cWM",
        "outputId": "0a553fc4-e515-417b-87b3-3082e16e1d27"
      },
      "execution_count": 3,
      "outputs": [
        {
          "output_type": "stream",
          "name": "stdout",
          "text": [
            "<class 'pandas.core.frame.DataFrame'>\n",
            "RangeIndex: 80 entries, 0 to 79\n",
            "Data columns (total 9 columns):\n",
            " #   Column                        Non-Null Count  Dtype  \n",
            "---  ------                        --------------  -----  \n",
            " 0   Week_num                      80 non-null     int64  \n",
            " 1   Passengers                    80 non-null     int64  \n",
            " 2   Promotion_Budget              80 non-null     int64  \n",
            " 3   Service_Quality_Score         80 non-null     float64\n",
            " 4   Holiday_week                  80 non-null     object \n",
            " 5   Delayed_Cancelled_flight_ind  80 non-null     object \n",
            " 6   Inter_metro_flight_ratio      80 non-null     float64\n",
            " 7   Bad_Weather_Ind               80 non-null     object \n",
            " 8   Technical_issues_ind          80 non-null     object \n",
            "dtypes: float64(2), int64(3), object(4)\n",
            "memory usage: 5.8+ KB\n"
          ]
        },
        {
          "output_type": "execute_result",
          "data": {
            "text/plain": [
              "array([[1.        , 0.96585103],\n",
              "       [0.96585103, 1.        ]])"
            ]
          },
          "metadata": {},
          "execution_count": 3
        }
      ]
    },
    {
      "cell_type": "markdown",
      "source": [
        "# Regression"
      ],
      "metadata": {
        "id": "6g64NXdTM8O2"
      }
    },
    {
      "cell_type": "code",
      "source": [
        "import statsmodels.formula.api as sm\n",
        "model = sm.ols(formula='Passengers ~ Promotion_Budget', data=air)\n",
        "fitted1 = model.fit()\n",
        "print(fitted1.summary())"
      ],
      "metadata": {
        "colab": {
          "base_uri": "https://localhost:8080/"
        },
        "collapsed": true,
        "id": "-8wkQKtsM_UO",
        "outputId": "7c685d72-c520-4e0a-eca8-d5f1681a3ec1"
      },
      "execution_count": 4,
      "outputs": [
        {
          "output_type": "stream",
          "name": "stdout",
          "text": [
            "                            OLS Regression Results                            \n",
            "==============================================================================\n",
            "Dep. Variable:             Passengers   R-squared:                       0.933\n",
            "Model:                            OLS   Adj. R-squared:                  0.932\n",
            "Method:                 Least Squares   F-statistic:                     1084.\n",
            "Date:                Tue, 08 Apr 2025   Prob (F-statistic):           1.66e-47\n",
            "Time:                        16:20:32   Log-Likelihood:                -751.34\n",
            "No. Observations:                  80   AIC:                             1507.\n",
            "Df Residuals:                      78   BIC:                             1511.\n",
            "Df Model:                           1                                         \n",
            "Covariance Type:            nonrobust                                         \n",
            "====================================================================================\n",
            "                       coef    std err          t      P>|t|      [0.025      0.975]\n",
            "------------------------------------------------------------------------------------\n",
            "Intercept         1259.6058   1361.071      0.925      0.358   -1450.078    3969.290\n",
            "Promotion_Budget     0.0695      0.002     32.923      0.000       0.065       0.074\n",
            "==============================================================================\n",
            "Omnibus:                       26.624   Durbin-Watson:                   1.831\n",
            "Prob(Omnibus):                  0.000   Jarque-Bera (JB):                5.188\n",
            "Skew:                          -0.128   Prob(JB):                       0.0747\n",
            "Kurtosis:                       1.779   Cond. No.                     2.67e+06\n",
            "==============================================================================\n",
            "\n",
            "Notes:\n",
            "[1] Standard Errors assume that the covariance matrix of the errors is correctly specified.\n",
            "[2] The condition number is large, 2.67e+06. This might indicate that there are\n",
            "strong multicollinearity or other numerical problems.\n"
          ]
        }
      ]
    },
    {
      "cell_type": "markdown",
      "source": [
        "# R Squared"
      ],
      "metadata": {
        "id": "d2k9yT6EJd_g"
      }
    },
    {
      "cell_type": "code",
      "source": [
        "import statsmodels.formula.api as sm\n",
        "model = sm.ols(formula='Passengers ~ Inter_metro_flight_ratio', data=air)\n",
        "fitted2 = model.fit()\n",
        "print(fitted2.summary())"
      ],
      "metadata": {
        "colab": {
          "base_uri": "https://localhost:8080/",
          "height": 769
        },
        "collapsed": true,
        "id": "W8rKZBNFJhoJ",
        "outputId": "7164d60b-0280-4428-ff1c-f8f98568cac7"
      },
      "execution_count": 5,
      "outputs": [
        {
          "output_type": "stream",
          "name": "stdout",
          "text": [
            "                            OLS Regression Results                            \n",
            "==============================================================================\n",
            "Dep. Variable:             Passengers   R-squared:                       0.242\n",
            "Model:                            OLS   Adj. R-squared:                  0.232\n",
            "Method:                 Least Squares   F-statistic:                     24.90\n",
            "Date:                Wed, 09 Apr 2025   Prob (F-statistic):           3.58e-06\n",
            "Time:                        10:52:53   Log-Likelihood:                -848.30\n",
            "No. Observations:                  80   AIC:                             1701.\n",
            "Df Residuals:                      78   BIC:                             1705.\n",
            "Df Model:                           1                                         \n",
            "Covariance Type:            nonrobust                                         \n",
            "============================================================================================\n",
            "                               coef    std err          t      P>|t|      [0.025      0.975]\n",
            "--------------------------------------------------------------------------------------------\n",
            "Intercept                 2.044e+04   4993.747      4.093      0.000    1.05e+04    3.04e+04\n",
            "Inter_metro_flight_ratio  3.507e+04   7027.768      4.990      0.000    2.11e+04    4.91e+04\n",
            "==============================================================================\n",
            "Omnibus:                       10.172   Durbin-Watson:                   1.385\n",
            "Prob(Omnibus):                  0.006   Jarque-Bera (JB):               10.098\n",
            "Skew:                           0.822   Prob(JB):                      0.00641\n",
            "Kurtosis:                       3.573   Cond. No.                         9.48\n",
            "==============================================================================\n",
            "\n",
            "Notes:\n",
            "[1] Standard Errors assume that the covariance matrix of the errors is correctly specified.\n"
          ]
        },
        {
          "output_type": "error",
          "ename": "TypeError",
          "evalue": "Model.from_formula() missing 1 required positional argument: 'data'",
          "traceback": [
            "\u001b[0;31m---------------------------------------------------------------------------\u001b[0m",
            "\u001b[0;31mTypeError\u001b[0m                                 Traceback (most recent call last)",
            "\u001b[0;32m<ipython-input-5-19ced5d48f67>\u001b[0m in \u001b[0;36m<cell line: 0>\u001b[0;34m()\u001b[0m\n\u001b[1;32m      4\u001b[0m \u001b[0mprint\u001b[0m\u001b[0;34m(\u001b[0m\u001b[0mfitted2\u001b[0m\u001b[0;34m.\u001b[0m\u001b[0msummary\u001b[0m\u001b[0;34m(\u001b[0m\u001b[0;34m)\u001b[0m\u001b[0;34m)\u001b[0m\u001b[0;34m\u001b[0m\u001b[0;34m\u001b[0m\u001b[0m\n\u001b[1;32m      5\u001b[0m \u001b[0;34m\u001b[0m\u001b[0m\n\u001b[0;32m----> 6\u001b[0;31m \u001b[0mmodel1\u001b[0m \u001b[0;34m=\u001b[0m \u001b[0msm\u001b[0m\u001b[0;34m.\u001b[0m\u001b[0mols\u001b[0m\u001b[0;34m(\u001b[0m\u001b[0mformula\u001b[0m\u001b[0;34m=\u001b[0m\u001b[0;34m'Passengers ~ Week_num + Passengers + Promotion_Budget + Service_Quality_Score + Holiday_week + Delayed_Cancelled_flight_ind + Inter_metro_flight_ratio + Bad_Weather_Ind + Technical_issues_ind'\u001b[0m\u001b[0;34m)\u001b[0m\u001b[0;34m\u001b[0m\u001b[0;34m\u001b[0m\u001b[0m\n\u001b[0m\u001b[1;32m      7\u001b[0m \u001b[0mfitted3\u001b[0m \u001b[0;34m=\u001b[0m \u001b[0mmodel1\u001b[0m\u001b[0;34m.\u001b[0m\u001b[0mfit\u001b[0m\u001b[0;34m(\u001b[0m\u001b[0;34m)\u001b[0m\u001b[0;34m\u001b[0m\u001b[0;34m\u001b[0m\u001b[0m\n\u001b[1;32m      8\u001b[0m \u001b[0mprint\u001b[0m\u001b[0;34m(\u001b[0m\u001b[0mfitted3\u001b[0m\u001b[0;34m.\u001b[0m\u001b[0msummary\u001b[0m\u001b[0;34m(\u001b[0m\u001b[0;34m)\u001b[0m\u001b[0;34m)\u001b[0m\u001b[0;34m\u001b[0m\u001b[0;34m\u001b[0m\u001b[0m\n",
            "\u001b[0;31mTypeError\u001b[0m: Model.from_formula() missing 1 required positional argument: 'data'"
          ]
        }
      ]
    },
    {
      "cell_type": "markdown",
      "source": [
        "# Best fitting model"
      ],
      "metadata": {
        "id": "6rWDUsFTMPyB"
      }
    },
    {
      "cell_type": "code",
      "source": [
        "import pandas as pd\n",
        "import statsmodels.formula.api as sm\n",
        "\n",
        "# Assuming your dataframe is named 'air' and the target variable is 'Passengers'\n",
        "\n",
        "# Get a list of all predictor columns\n",
        "predictors = air.columns.drop('Passengers')\n",
        "\n",
        "# Store parameters with R-squared > 0.8\n",
        "selected_predictors = []\n",
        "for predictor in predictors:\n",
        "    formula = f'Passengers ~ {predictor}'\n",
        "    model = sm.ols(formula=formula, data=air).fit()\n",
        "    r_squared = model.rsquared\n",
        "    print(predictor + \": \" + str(r_squared))\n",
        "    if r_squared > 0.8:\n",
        "        selected_predictors.append(predictor)\n",
        "\n",
        "\n",
        "\n",
        "# Create formula for the model with selected parameters\n",
        "formula = f'Passengers ~ {\" + \".join(selected_predictors)}'\n",
        "\n",
        "# Fit the model\n",
        "final_model = sm.ols(formula=formula, data=air).fit()\n",
        "\n",
        "# Print model summary\n",
        "print(final_model.summary())"
      ],
      "metadata": {
        "colab": {
          "base_uri": "https://localhost:8080/"
        },
        "id": "JhIaONNMMTvR",
        "outputId": "aa158608-1876-4933-a3c6-725c61901ee6"
      },
      "execution_count": 10,
      "outputs": [
        {
          "output_type": "stream",
          "name": "stdout",
          "text": [
            "Week_num: 0.17042031227758703\n",
            "Promotion_Budget: 0.9328682090420465\n",
            "Service_Quality_Score: 0.7859354715816813\n",
            "Holiday_week: 0.67453109497792\n",
            "Delayed_Cancelled_flight_ind: 0.013508069001354595\n",
            "Inter_metro_flight_ratio: 0.24201165653764767\n",
            "Bad_Weather_Ind: 0.0130882549232898\n",
            "Technical_issues_ind: 0.05933505233160419\n",
            "                            OLS Regression Results                            \n",
            "==============================================================================\n",
            "Dep. Variable:             Passengers   R-squared:                       0.933\n",
            "Model:                            OLS   Adj. R-squared:                  0.932\n",
            "Method:                 Least Squares   F-statistic:                     1084.\n",
            "Date:                Wed, 09 Apr 2025   Prob (F-statistic):           1.66e-47\n",
            "Time:                        11:01:55   Log-Likelihood:                -751.34\n",
            "No. Observations:                  80   AIC:                             1507.\n",
            "Df Residuals:                      78   BIC:                             1511.\n",
            "Df Model:                           1                                         \n",
            "Covariance Type:            nonrobust                                         \n",
            "====================================================================================\n",
            "                       coef    std err          t      P>|t|      [0.025      0.975]\n",
            "------------------------------------------------------------------------------------\n",
            "Intercept         1259.6058   1361.071      0.925      0.358   -1450.078    3969.290\n",
            "Promotion_Budget     0.0695      0.002     32.923      0.000       0.065       0.074\n",
            "==============================================================================\n",
            "Omnibus:                       26.624   Durbin-Watson:                   1.831\n",
            "Prob(Omnibus):                  0.000   Jarque-Bera (JB):                5.188\n",
            "Skew:                          -0.128   Prob(JB):                       0.0747\n",
            "Kurtosis:                       1.779   Cond. No.                     2.67e+06\n",
            "==============================================================================\n",
            "\n",
            "Notes:\n",
            "[1] Standard Errors assume that the covariance matrix of the errors is correctly specified.\n",
            "[2] The condition number is large, 2.67e+06. This might indicate that there are\n",
            "strong multicollinearity or other numerical problems.\n"
          ]
        }
      ]
    }
  ]
}